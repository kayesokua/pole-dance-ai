{
 "cells": [
  {
   "cell_type": "markdown",
   "id": "9ba739df-0881-41e5-a883-dbcfad5fec09",
   "metadata": {},
   "source": [
    "## Spin Count"
   ]
  },
  {
   "cell_type": "markdown",
   "id": "ae7888e4-ba03-4aae-8019-eccb62ebe1bb",
   "metadata": {},
   "source": [
    "## Range of Motion\n",
    "\n",
    "This metric measures the extent of movement for each joint throughout the dance"
   ]
  },
  {
   "cell_type": "markdown",
   "id": "f5ac40fb-817c-4e1c-87d1-f3bfdce534f5",
   "metadata": {},
   "source": [
    "## Quality of Movement\n",
    "\n",
    "There are 6 known categories of describing the quality of a movement: sustained, percussive, swinging, suspended, collapsed, and vibratory."
   ]
  },
  {
   "cell_type": "markdown",
   "id": "23e70092-fa4e-43cf-95a8-0fbf2f715dba",
   "metadata": {},
   "source": [
    "## Quality of Body Engagement\n",
    "\n",
    "based on the total poses recognised"
   ]
  }
 ],
 "metadata": {
  "kernelspec": {
   "display_name": "Python 3 (ipykernel)",
   "language": "python",
   "name": "python3"
  },
  "language_info": {
   "codemirror_mode": {
    "name": "ipython",
    "version": 3
   },
   "file_extension": ".py",
   "mimetype": "text/x-python",
   "name": "python",
   "nbconvert_exporter": "python",
   "pygments_lexer": "ipython3",
   "version": "3.11.6"
  }
 },
 "nbformat": 4,
 "nbformat_minor": 5
}
