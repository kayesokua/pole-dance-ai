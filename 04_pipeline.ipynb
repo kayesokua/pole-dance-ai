{
 "cells": [
  {
   "cell_type": "markdown",
   "id": "48e291a6-5ec0-404f-a3bd-3fed4e4dd26a",
   "metadata": {},
   "source": [
    "## Choreography Summarization Pipeline\n",
    "\n",
    "1. Video Input: The user uploads a dance video.\n",
    "2. Frame Conversion: This video is converted into a series of static images (frames).\n",
    "3. Pose Extraction: Each frame is analyzed to extract the dancer's pose, generating numerical data about the choreography.\n",
    "4. Data Augmention: Linear algebra concepts are leveraged to add more information about the choreography.\n",
    "5. Data Analysis and Summarization: The augmented data is analyzed to gain insights into the choreography, like body engagement, pose complexity, and range of motion.\n",
    "6. Output: This summary, along with the pose references and insights, is presented to the user and saved for reference.\n"
   ]
  }
 ],
 "metadata": {
  "kernelspec": {
   "display_name": "Python 3 (ipykernel)",
   "language": "python",
   "name": "python3"
  },
  "language_info": {
   "codemirror_mode": {
    "name": "ipython",
    "version": 3
   },
   "file_extension": ".py",
   "mimetype": "text/x-python",
   "name": "python",
   "nbconvert_exporter": "python",
   "pygments_lexer": "ipython3",
   "version": "3.11.6"
  }
 },
 "nbformat": 4,
 "nbformat_minor": 5
}
