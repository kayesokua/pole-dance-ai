{
 "cells": [
  {
   "cell_type": "markdown",
   "id": "8817ebcf-ae79-4e74-a245-ee72ba01d82e",
   "metadata": {},
   "source": [
    "## Resources\n",
    "\n",
    "* MediaPipe Blaze Pose GHUM 3D. [developers.google.com](https://developers.google.com/static/ml-kit/images/vision/pose-detection/pose_model_card.pdf)"
   ]
  }
 ],
 "metadata": {
  "kernelspec": {
   "display_name": "Python 3 (ipykernel)",
   "language": "python",
   "name": "python3"
  },
  "language_info": {
   "codemirror_mode": {
    "name": "ipython",
    "version": 3
   },
   "file_extension": ".py",
   "mimetype": "text/x-python",
   "name": "python",
   "nbconvert_exporter": "python",
   "pygments_lexer": "ipython3",
   "version": "3.11.0"
  }
 },
 "nbformat": 4,
 "nbformat_minor": 5
}
